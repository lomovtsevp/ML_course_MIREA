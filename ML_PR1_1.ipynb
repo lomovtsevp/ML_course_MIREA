{
  "nbformat": 4,
  "nbformat_minor": 0,
  "metadata": {
    "colab": {
      "name": "ML_PR1_1.ipynb",
      "provenance": [],
      "collapsed_sections": []
    },
    "kernelspec": {
      "name": "python3",
      "display_name": "Python 3"
    },
    "language_info": {
      "name": "python"
    }
  },
  "cells": [
    {
      "cell_type": "code",
      "metadata": {
        "id": "4MPmn-x4QVz3"
      },
      "source": [
        "import numpy as np\n",
        "from matplotlib import pyplot as plt\n"
      ],
      "execution_count": 1,
      "outputs": []
    },
    {
      "cell_type": "code",
      "metadata": {
        "id": "hJTgD3DKQVxp"
      },
      "source": [
        "def compute_hypothesis(X, theta):\n",
        "    return np.matmul(X, theta)"
      ],
      "execution_count": 2,
      "outputs": []
    },
    {
      "cell_type": "code",
      "metadata": {
        "id": "vyDpLJnpQVvd"
      },
      "source": [
        "def compute_cost(X, y, theta):\n",
        "    m = X.shape[0]  # количество примеров в выборке\n",
        "    # ВАШ КОД ЗДЕСЬ\n",
        "\n",
        "    return 1 / (2 * m) * sum((compute_hypothesis(X, theta) - y) ** 2)\n",
        "\n",
        "    # =============="
      ],
      "execution_count": 3,
      "outputs": []
    },
    {
      "cell_type": "code",
      "metadata": {
        "id": "Dj4D4wuTQVtL"
      },
      "source": [
        "def gradient_descend(X, y, theta, alpha, num_iter):\n",
        "    history = list()\n",
        "\n",
        "    m = X.shape[0]  # количество примеров в выборке\n",
        "\n",
        "    for i in range(num_iter):\n",
        "\n",
        "        # ВАШ КОД ЗДЕСЬ\n",
        "\n",
        "        theta_temp = theta\n",
        "        theta_temp[0] = theta_temp[0] - alpha * (compute_hypothesis(X, theta) - y).dot(X[:, 0]) / m\n",
        "        theta_temp[1] = theta_temp[1] - alpha * (compute_hypothesis(X, theta) - y).dot(X[:, 1]) / m\n",
        "        theta = theta_temp\n",
        "\n",
        "        # =====================\n",
        "\n",
        "        history.append(compute_cost(X, y, theta))\n",
        "    return history, theta"
      ],
      "execution_count": 4,
      "outputs": []
    },
    {
      "cell_type": "code",
      "metadata": {
        "id": "Qm-RCB3dQVqF"
      },
      "source": [
        "def load_data(data_file_path):\n",
        "    with open(data_file_path) as input_file:\n",
        "        X = list()\n",
        "        y = list()\n",
        "        for line in input_file:\n",
        "            *row, label = map(float, line.split(','))\n",
        "            X.append([1] + row)\n",
        "            y.append(label)\n",
        "        return np.array(X, float), np.array(y, float)\n"
      ],
      "execution_count": 5,
      "outputs": []
    },
    {
      "cell_type": "code",
      "metadata": {
        "id": "JMUHiXMwQfss"
      },
      "source": [
        "X, y = load_data('lab1data1.txt')"
      ],
      "execution_count": 6,
      "outputs": []
    },
    {
      "cell_type": "code",
      "metadata": {
        "colab": {
          "base_uri": "https://localhost:8080/",
          "height": 281
        },
        "id": "_iQQrBNAQfqT",
        "outputId": "e8cc9974-7373-4e7d-f2d8-3b075e6c50b2"
      },
      "source": [
        "plt.title('Исходные данные')\n",
        "plt.scatter(X[:, 1], y, c='r', marker='x')\n",
        "plt.show()"
      ],
      "execution_count": 7,
      "outputs": [
        {
          "output_type": "display_data",
          "data": {
            "image/png": "[encoded data removed]",
            "text/plain": [
              "<Figure size 432x288 with 1 Axes>"
            ]
          },
          "metadata": {
            "needs_background": "light"
          }
        }
      ]
    },
    {
      "cell_type": "code",
      "metadata": {
        "colab": {
          "base_uri": "https://localhost:8080/"
        },
        "id": "9GyMrQUhQfm_",
        "outputId": "d09077d9-3748-4c48-9ff9-12dfe51d2a81"
      },
      "source": [
        "print('Значение функции стоимости при theta = [0, 0]: ', compute_cost(X, y, np.array([0, 0])))"
      ],
      "execution_count": 8,
      "outputs": [
        {
          "output_type": "stream",
          "name": "stdout",
          "text": [
            "Значение функции стоимости при theta = [0, 0]:  32.072733877455654\n"
          ]
        }
      ]
    },
    {
      "cell_type": "code",
      "metadata": {
        "id": "pLBNrB_aQfeH"
      },
      "source": [
        "history, theta = gradient_descend(X, y, np.array([0, 0], float), 0.01, 1500)"
      ],
      "execution_count": 9,
      "outputs": []
    },
    {
      "cell_type": "code",
      "metadata": {
        "colab": {
          "base_uri": "https://localhost:8080/",
          "height": 281
        },
        "id": "hvQlkbuiQlkW",
        "outputId": "e0e7f299-9924-4473-e9f7-3ed4ecab3c49"
      },
      "source": [
        "plt.title('График изменения функции стоимости от номера итерации')\n",
        "plt.plot(range(len(history)), history)\n",
        "plt.show()\n"
      ],
      "execution_count": 10,
      "outputs": [
        {
          "output_type": "display_data",
          "data": {
            "image/png": "[encoded data removed]",
            "text/plain": [
              "<Figure size 432x288 with 1 Axes>"
            ]
          },
          "metadata": {
            "needs_background": "light"
          }
        }
      ]
    },
    {
      "cell_type": "code",
      "metadata": {
        "colab": {
          "base_uri": "https://localhost:8080/",
          "height": 281
        },
        "id": "cXBv8JXFQO3Q",
        "outputId": "e2e18217-cfb3-4fc5-f419-b24511d8cfba"
      },
      "source": [
        "plt.title('Обученая модель')\n",
        "plt.scatter(X[:, 1], y, c='r', marker='x')\n",
        "plt.plot(X[:, 1], compute_hypothesis(X, theta))\n",
        "plt.show()\n"
      ],
      "execution_count": 11,
      "outputs": [
        {
          "output_type": "display_data",
          "data": {
            "image/png": "[encoded data removed]",
            "text/plain": [
              "<Figure size 432x288 with 1 Axes>"
            ]
          },
          "metadata": {
            "needs_background": "light"
          }
        }
      ]
    }
  ]
}