{
  "nbformat": 4,
  "nbformat_minor": 0,
  "metadata": {
    "colab": {
      "name": "ML_lab_2_1.ipynb",
      "provenance": [],
      "collapsed_sections": [],
      "authorship_tag": "ABX9TyMw5c/KPHUnob+jvbcgp/4i",
      "include_colab_link": true
    },
    "kernelspec": {
      "name": "python3",
      "display_name": "Python 3"
    },
    "language_info": {
      "name": "python"
    }
  },
  "cells": [
    {
      "cell_type": "markdown",
      "metadata": {
        "id": "view-in-github",
        "colab_type": "text"
      },
      "source": [
        "<a href=\"https://colab.research.google.com/github/lompas10/ML_course_MIREA/blob/main/2/ML_lab_2_1.ipynb\" target=\"_parent\"><img src=\"https://colab.research.google.com/assets/colab-badge.svg\" alt=\"Open In Colab\"/></a>"
      ]
    },
    {
      "cell_type": "code",
      "metadata": {
        "id": "DN8GBm_vmVio"
      },
      "source": [
        "import numpy as np\n",
        "from scipy.optimize import minimize\n",
        "from matplotlib import pyplot as plt\n",
        "%matplotlib inline"
      ],
      "execution_count": 1,
      "outputs": []
    },
    {
      "cell_type": "code",
      "metadata": {
        "id": "pOsszOCcmrj7"
      },
      "source": [
        "# В этой лабораторной работе вам предстоит обучить модель логистической регрессии.\n",
        "# Представьте, что вы сотрудник приемной комиссии и хотите оценить шансы студента на прохождение на бюджет.\n",
        "# У вас есть исторические данные о сдачах студентами двух входных экзаменов по 100-балльной шкале.\n",
        "# Кроме того, данные размечены. То есть студенты, прошедшие отбор помечены меткой 1, остальные 0.\n",
        "\n",
        "# Ваша задача - заполнить код в функциях:\n",
        "# logistic - вычисляет логистическую функцию от аргумента,\n",
        "# compute_cost - вычисляет функцию стоимости,\n",
        "# compute_cost_grad - вычисляет градиент функции стоимости.\n",
        "\n",
        "# В данной задаче будет использоваться градиентный метод оптимизации, определенный в библиотеке scipy, так что\n",
        "# не нужно реализовывать градиентный спуск.\n",
        "\n",
        "# По ходу работы смотрите в консоль. Там будут выводиться результаты написанных вами функций и ожидаемые результаты.\n",
        "# Так вы сможете проверить себя.\n",
        "\n",
        "# Комментарии к графикам:\n",
        "# Первый график - исходные данные\n",
        "# Второй - исходные данные с результатом работы модели - границей решений.\n",
        "# Черным цветом обозначено поле, попадание точки в которое означает ее\n",
        "# принадлежность к 1 классу (студент проходит на бюджет), белым - принадлежность к 0 классу (не проходит на бюджет)."
      ],
      "execution_count": 3,
      "outputs": []
    },
    {
      "cell_type": "code",
      "metadata": {
        "id": "6jALTardmtet"
      },
      "source": [
        "def logistic(z):\n",
        "    return 1 / (1 + np.exp(-z))"
      ],
      "execution_count": 8,
      "outputs": []
    },
    {
      "cell_type": "code",
      "metadata": {
        "id": "s9uHJkBwmwRF"
      },
      "source": [
        "def compute_cost(X, y, theta):\n",
        "\n",
        "    # Функция принимает матрицу данный X, вектор целевых переменных y и вектор параметров theta.\n",
        "    # Должна возвратить число - результат вычисления функции стоимости в точке theta.\n",
        "\n",
        "    m, n = X.shape\n",
        "    return (-1 / m) * sum(y * np.log(logistic(X @ theta)) + (1 - y) * np.log(1 - logistic(X @ theta)))"
      ],
      "execution_count": 27,
      "outputs": []
    },
    {
      "cell_type": "code",
      "metadata": {
        "id": "CzZbblo6myGe"
      },
      "source": [
        "def compute_cost_grad(X, y, theta):\n",
        "    # Функция принимает матрицу данный X, вектор целевых переменных y и вектор параметров theta.\n",
        "    # Должна возвратить вектор координат градиента функции стоимости в точке theta.\n",
        "    # Вектор можно заполнять в виде списка python. При возврате он преобразуется в массив numpy.\n",
        "\n",
        "    m, n = X.shape  # m - количество примеров в выборке, n - количество признаков у каждого примера\n",
        "    grad = (1 / m) * np.matmul(np.transpose(logistic(np.matmul(X, theta)) - y), X)  # вектор градиента функции стоимости по theta, его нужно заполнить\n",
        "\n",
        "    return np.array(grad)\n"
      ],
      "execution_count": 33,
      "outputs": []
    },
    {
      "cell_type": "code",
      "metadata": {
        "id": "bgrM-9hBmz1V"
      },
      "source": [
        "def load_data(data_file_path):\n",
        "    with open(data_file_path) as input_file:\n",
        "        X = list()\n",
        "        y = list()\n",
        "        for line in input_file:\n",
        "            *row, label = map(float, line.split(','))\n",
        "            X.append([1] + row)\n",
        "            y.append(label)\n",
        "        return np.array(X, float), np.array(y, float)"
      ],
      "execution_count": 5,
      "outputs": []
    },
    {
      "cell_type": "code",
      "metadata": {
        "id": "1EUiRO59m1tF"
      },
      "source": [
        "X, y = load_data('lab2data1.txt')"
      ],
      "execution_count": 6,
      "outputs": []
    },
    {
      "cell_type": "code",
      "metadata": {
        "colab": {
          "base_uri": "https://localhost:8080/"
        },
        "id": "52kMmybdm7sS",
        "outputId": "70a0afdf-e5f5-4ade-d776-9655c29b79fd"
      },
      "source": [
        "print(f'logistic(0) = {logistic(np.array(0))} (должно быть 0.5)\\n'\n",
        "      f'logistic(-10) = {logistic(np.array(-10))} (должно быть ~0)\\n'\n",
        "      f'logistic(10) = {logistic(np.array(10))} (должно быть ~1)')"
      ],
      "execution_count": 9,
      "outputs": [
        {
          "output_type": "stream",
          "name": "stdout",
          "text": [
            "logistic(0) = 0.5 (должно быть 0.5)\n",
            "logistic(-10) = 4.5397868702434395e-05 (должно быть ~0)\n",
            "logistic(10) = 0.9999546021312976 (должно быть ~1)\n"
          ]
        }
      ]
    },
    {
      "cell_type": "code",
      "metadata": {
        "colab": {
          "base_uri": "https://localhost:8080/",
          "height": 281
        },
        "id": "w3QG487sm8Di",
        "outputId": "fe7073e4-1c94-448d-9699-c964e8328463"
      },
      "source": [
        "plt.title('Исходные данные')\n",
        "plt.scatter(X[y == 0][:, 1], X[y == 0][:, 2], c='r', marker='o')\n",
        "plt.scatter(X[y == 1][:, 1], X[y == 1][:, 2], c='g', marker='x')\n",
        "plt.show()"
      ],
      "execution_count": 10,
      "outputs": [
        {
          "output_type": "display_data",
          "data": {
            "image/png": "[encoded data removed]",
            "text/plain": [
              "<Figure size 432x288 with 1 Axes>"
            ]
          },
          "metadata": {
            "needs_background": "light"
          }
        }
      ]
    },
    {
      "cell_type": "code",
      "metadata": {
        "colab": {
          "base_uri": "https://localhost:8080/"
        },
        "id": "ba3fEz24nCSb",
        "outputId": "c0d821c4-33cd-454d-ff34-db7213d8d0a1"
      },
      "source": [
        "init_theta = np.zeros((X.shape[1], 1))\n",
        "cost0 = compute_cost(X, y, init_theta)\n",
        "print(f'Функция стоимости при начальном theta = {cost0} (должно быть ~0.693)')"
      ],
      "execution_count": 28,
      "outputs": [
        {
          "output_type": "stream",
          "name": "stdout",
          "text": [
            "Функция стоимости при начальном theta = [0.69314718 0.69314718 0.69314718 0.69314718 0.69314718 0.69314718\n",
            " 0.69314718 0.69314718 0.69314718 0.69314718 0.69314718 0.69314718\n",
            " 0.69314718 0.69314718 0.69314718 0.69314718 0.69314718 0.69314718\n",
            " 0.69314718 0.69314718 0.69314718 0.69314718 0.69314718 0.69314718\n",
            " 0.69314718 0.69314718 0.69314718 0.69314718 0.69314718 0.69314718\n",
            " 0.69314718 0.69314718 0.69314718 0.69314718 0.69314718 0.69314718\n",
            " 0.69314718 0.69314718 0.69314718 0.69314718 0.69314718 0.69314718\n",
            " 0.69314718 0.69314718 0.69314718 0.69314718 0.69314718 0.69314718\n",
            " 0.69314718 0.69314718 0.69314718 0.69314718 0.69314718 0.69314718\n",
            " 0.69314718 0.69314718 0.69314718 0.69314718 0.69314718 0.69314718\n",
            " 0.69314718 0.69314718 0.69314718 0.69314718 0.69314718 0.69314718\n",
            " 0.69314718 0.69314718 0.69314718 0.69314718 0.69314718 0.69314718\n",
            " 0.69314718 0.69314718 0.69314718 0.69314718 0.69314718 0.69314718\n",
            " 0.69314718 0.69314718 0.69314718 0.69314718 0.69314718 0.69314718\n",
            " 0.69314718 0.69314718 0.69314718 0.69314718 0.69314718 0.69314718\n",
            " 0.69314718 0.69314718 0.69314718 0.69314718 0.69314718 0.69314718\n",
            " 0.69314718 0.69314718 0.69314718 0.69314718] (должно быть ~0.693)\n"
          ]
        }
      ]
    },
    {
      "cell_type": "code",
      "metadata": {
        "colab": {
          "base_uri": "https://localhost:8080/"
        },
        "id": "EKIFtWY0nGKX",
        "outputId": "3b003448-9365-4edd-af5d-245627248683"
      },
      "source": [
        "opt_theta_obj = minimize(lambda th: compute_cost(X, y, th), init_theta,\n",
        "                         method='CG',\n",
        "                         jac=lambda th: compute_cost_grad(X, y, th),\n",
        "                         options={'gtol': 1e-5, 'maxiter': 200, 'disp': False})\n",
        "\n",
        "print('Минимизация функции стоимости ' + ('прошла успешно.' if opt_theta_obj.success else 'не удалась.'))"
      ],
      "execution_count": 34,
      "outputs": [
        {
          "output_type": "stream",
          "name": "stdout",
          "text": [
            "Минимизация функции стоимости прошла успешно.\n"
          ]
        },
        {
          "output_type": "stream",
          "name": "stderr",
          "text": [
            "/usr/local/lib/python3.7/dist-packages/ipykernel_launcher.py:7: RuntimeWarning: divide by zero encountered in log\n",
            "  import sys\n",
            "/usr/local/lib/python3.7/dist-packages/ipykernel_launcher.py:7: RuntimeWarning: invalid value encountered in multiply\n",
            "  import sys\n"
          ]
        }
      ]
    },
    {
      "cell_type": "code",
      "metadata": {
        "colab": {
          "base_uri": "https://localhost:8080/"
        },
        "id": "lTtTv8BFnJoG",
        "outputId": "4b5bcf71-4750-49cc-cf34-3cbab48ec08b"
      },
      "source": [
        "opt_theta = opt_theta_obj.x\n",
        "\n",
        "opt_cost = compute_cost(X, y, opt_theta)\n",
        "print(f'Функция стоимости при оптимальном theta = {opt_cost} (должно быть ~0.203)')"
      ],
      "execution_count": 35,
      "outputs": [
        {
          "output_type": "stream",
          "name": "stdout",
          "text": [
            "Функция стоимости при оптимальном theta = 0.20349771154667598 (должно быть ~0.203)\n"
          ]
        }
      ]
    },
    {
      "cell_type": "code",
      "metadata": {
        "colab": {
          "base_uri": "https://localhost:8080/",
          "height": 281
        },
        "id": "_6YqUNqCnKN1",
        "outputId": "d5765d61-58af-4319-beb6-ad20cfea6ac2"
      },
      "source": [
        "hm = np.zeros((100, 100))\n",
        "for i in range(100):\n",
        "    for j in range(100):\n",
        "        hm[i, j] = round(logistic(opt_theta @ np.array([1, j, i])))\n",
        "c = plt.pcolor(range(101), range(101), hm, cmap='Greys')\n",
        "plt.colorbar(c)\n",
        "\n",
        "plt.title('Построенная граница решений')\n",
        "plt.scatter(X[y == 0][:, 1], X[y == 0][:, 2], c='r', marker='o')\n",
        "plt.scatter(X[y == 1][:, 1], X[y == 1][:, 2], c='g', marker='x')\n",
        "plt.show()\n"
      ],
      "execution_count": 36,
      "outputs": [
        {
          "output_type": "display_data",
          "data": {
            "image/png": "[encoded data removed]",
            "text/plain": [
              "<Figure size 432x288 with 2 Axes>"
            ]
          },
          "metadata": {
            "needs_background": "light"
          }
        }
      ]
    }
  ]
}