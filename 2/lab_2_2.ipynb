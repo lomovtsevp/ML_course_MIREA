{
  "nbformat": 4,
  "nbformat_minor": 0,
  "metadata": {
    "colab": {
      "name": "lab_2_2.ipynb",
      "provenance": [],
      "collapsed_sections": [],
      "authorship_tag": "ABX9TyOYhvuzjLQLoDAFsi/hm4z8",
      "include_colab_link": true
    },
    "kernelspec": {
      "display_name": "Python 3",
      "name": "python3"
    },
    "language_info": {
      "name": "python"
    }
  },
  "cells": [
    {
      "cell_type": "markdown",
      "metadata": {
        "id": "view-in-github",
        "colab_type": "text"
      },
      "source": [
        "<a href=\"https://colab.research.google.com/github/lompas10/ML_course_MIREA/blob/main/2/lab_2_2.ipynb\" target=\"_parent\"><img src=\"https://colab.research.google.com/assets/colab-badge.svg\" alt=\"Open In Colab\"/></a>"
      ]
    },
    {
      "cell_type": "code",
      "metadata": {
        "id": "vZc0Ur99uXyU"
      },
      "source": [
        "import numpy as np\n",
        "from scipy.optimize import minimize\n",
        "from matplotlib import pyplot as plt"
      ],
      "execution_count": 15,
      "outputs": []
    },
    {
      "cell_type": "code",
      "metadata": {
        "id": "-YqARaxXEqY7"
      },
      "source": [
        "# Теперь вы сотрудник лаборатории, производящей процессоры.\n",
        "# У вас есть данные о прохождении процессором 2-ух тестов, которые определяют его исправность.\n",
        "# Кроме того, данные размечены. То есть исправные процессоры помечены меткой 1, остальные 0.\n",
        "\n",
        "# Ваша задача - заполнить код в функциях:\n",
        "# logistic - вычисляет логистическую функцию от аргумента,\n",
        "# compute_cost_reg - вычисляет функцию стоимости c регуляризацией,\n",
        "# compute_cost_grad_reg - вычисляет градиент функции стоимости с регуляризацией.\n",
        "\n",
        "# В данной задаче будет использоваться градиентный метод оптимизации, определенный в библиотеке scipy, так что\n",
        "# не нужно реализовывать градиентный спуск.\n",
        "\n",
        "# По ходу работы смотрите в консоль. Там будут выводиться результаты написанных вами функций и ожидаемые результаты.\n",
        "# Так вы сможете проверить себя.\n",
        "\n",
        "# Комментарии к графикам:\n",
        "# Первый график - исходные данные\n",
        "# Второй - исходные данные с результатом работы модели - границей решений.\n",
        "# Черным цветом обозначено поле, попадание точки в которое означает ее\n",
        "# принадлежность к 1 классу (процессор исправен), белым - принадлежность к 0 классу (не исправен)."
      ],
      "execution_count": 16,
      "outputs": []
    },
    {
      "cell_type": "code",
      "metadata": {
        "id": "UuEn7UurEsF0"
      },
      "source": [
        "def map_features(X):\n",
        "\n",
        "    # Эта функция добавляет все комбинации признаков 2, 3, ..., 6 степеней в матрицу данных.\n",
        "    # Это нужно для того, чтобы мы могли построить нелинейную границу решений.\n",
        "    # При таком большом количестве признаков может возникнуть проблема переобучения\n",
        "    # С ней мы и поборемся с помощью регуляризации.\n",
        "\n",
        "    result = list()\n",
        "    for k in range(X.shape[0] if len(X.shape) == 2 else 1):\n",
        "        vec = list(X[k, :] if len(X.shape) == 2 else X)\n",
        "        for i in range(2, 7):\n",
        "            for j in range(i + 1):\n",
        "                vec.append(vec[1] ** j * vec[2] ** (i - j))\n",
        "        result.append(vec)\n",
        "    return np.array(result)"
      ],
      "execution_count": 17,
      "outputs": []
    },
    {
      "cell_type": "code",
      "metadata": {
        "id": "fAvPReB1EuHo"
      },
      "source": [
        "def logistic(z):\n",
        "\n",
        "    # Функция принимает аргумент z - скаляр, вектор или матрицу в виде объекта numpy.array()\n",
        "    # Должна возвращать скяляр, вектор или матрицу (в зависимости от размерности z)\n",
        "    # результатов вычисления логистической функции от элементов z\n",
        "\n",
        "    return 1 / (1 + np.exp(-z))\n"
      ],
      "execution_count": 18,
      "outputs": []
    },
    {
      "cell_type": "code",
      "metadata": {
        "id": "eXYCp1SxEv4C"
      },
      "source": [
        "def compute_cost_reg(X, y, theta, lamb):\n",
        "\n",
        "    # Функция принимает матрицу данный X, вектор целевых переменных y и вектор параметров theta.\n",
        "    # Кроме того, функция принимает параметр регуляризации lamb.\n",
        "    # Должна возвратить число - результат вычисления функции стоимости в точке theta.\n",
        "\n",
        "    m, n = X.shape\n",
        "\n",
        "    return np.mean(-(y * np.log(logistic(X @ theta)) + (1 - y) * np.log(1 - logistic(X @ theta))) + lamb / m * sum(theta ** 2))"
      ],
      "execution_count": 19,
      "outputs": []
    },
    {
      "cell_type": "code",
      "metadata": {
        "id": "ZkUfRsejEyMO"
      },
      "source": [
        "def compute_cost_grad_reg(X, y, theta, lamb):\n",
        "    # Функция принимает матрицу данный X, вектор целевых переменных y и вектор параметров theta.\n",
        "    # Кроме того, функция принимает параметр регуляризации lamb.\n",
        "    # Должна возвратить вектор координат градиента функции стоимости в точке theta.\n",
        "    # Вектор можно заполнять в виде списка python. При возврате он преобразуется в массив numpy.\n",
        "\n",
        "    m, n = X.shape  # m - количество примеров в выборке, n - количество признаков у каждого примера\n",
        "    grad = (1 / m) * ((logistic(X @ theta) - y).T @ X) + 2 * lamb / m * theta # вектор градиента функции стоимости по theta, его нужно заполнить\n",
        "\n",
        "    return np.array(grad)"
      ],
      "execution_count": 20,
      "outputs": []
    },
    {
      "cell_type": "code",
      "metadata": {
        "id": "hEVfaG5ME0W1"
      },
      "source": [
        "def load_data(data_file_path):\n",
        "    with open(data_file_path) as input_file:\n",
        "        X = list()\n",
        "        y = list()\n",
        "        for line in input_file:\n",
        "            *row, label = map(float, line.split(','))\n",
        "            X.append([1] + row)\n",
        "            y.append(label)\n",
        "        return np.array(X, float), np.array(y, float)"
      ],
      "execution_count": 21,
      "outputs": []
    },
    {
      "cell_type": "code",
      "metadata": {
        "id": "_u_HE5fLE2P4"
      },
      "source": [
        "X, y = load_data('lab2data2.txt')\n",
        "\n",
        "X = map_features(X)"
      ],
      "execution_count": 22,
      "outputs": []
    },
    {
      "cell_type": "code",
      "metadata": {
        "colab": {
          "base_uri": "https://localhost:8080/"
        },
        "id": "HH3xE2BqE4tw",
        "outputId": "035b0a3c-c2e6-4b69-863e-e4606c06dfca"
      },
      "source": [
        "print(f'logistic(0) = {logistic(np.array(0))} (должно быть 0.5)\\n'\n",
        "      f'logistic(-10) = {logistic(np.array(-10))} (должно быть ~0)\\n'\n",
        "      f'logistic(10) = {logistic(np.array(10))} (должно быть ~1)')"
      ],
      "execution_count": 23,
      "outputs": [
        {
          "output_type": "stream",
          "name": "stdout",
          "text": [
            "logistic(0) = 0.5 (должно быть 0.5)\n",
            "logistic(-10) = 4.5397868702434395e-05 (должно быть ~0)\n",
            "logistic(10) = 0.9999546021312976 (должно быть ~1)\n"
          ]
        }
      ]
    },
    {
      "cell_type": "code",
      "metadata": {
        "colab": {
          "base_uri": "https://localhost:8080/",
          "height": 281
        },
        "id": "qegleJXQE6-T",
        "outputId": "c2992ca3-28a1-45d8-bdf5-0f3a92a8afea"
      },
      "source": [
        "plt.title('Исходные данные')\n",
        "plt.scatter(X[y == 0][:, 1], X[y == 0][:, 2], c='r', marker='o')\n",
        "plt.scatter(X[y == 1][:, 1], X[y == 1][:, 2], c='g', marker='x')\n",
        "plt.show()"
      ],
      "execution_count": 24,
      "outputs": [
        {
          "output_type": "display_data",
          "data": {
            "image/png": "[encoded data removed]",
            "text/plain": [
              "<Figure size 432x288 with 1 Axes>"
            ]
          },
          "metadata": {
            "needs_background": "light"
          }
        }
      ]
    },
    {
      "cell_type": "code",
      "metadata": {
        "colab": {
          "base_uri": "https://localhost:8080/"
        },
        "id": "YVIBsWJQE9G7",
        "outputId": "d65d1749-8666-4bfa-933e-5f6ffb3e8c9d"
      },
      "source": [
        "lamb = 0.46\n",
        "init_theta = np.zeros((X.shape[1], 1))\n",
        "cost0 = compute_cost_reg(X, y, init_theta, lamb)\n",
        "print(f'Функция стоимости при начальном theta = {cost0} (должно быть ~0.693)')"
      ],
      "execution_count": 25,
      "outputs": [
        {
          "output_type": "stream",
          "name": "stdout",
          "text": [
            "Функция стоимости при начальном theta = 0.6931471805599453 (должно быть ~0.693)\n"
          ]
        }
      ]
    },
    {
      "cell_type": "code",
      "metadata": {
        "colab": {
          "base_uri": "https://localhost:8080/"
        },
        "id": "kSOvkXvVE_D6",
        "outputId": "6ed089f2-350b-4d52-9c56-e276a8b7664b"
      },
      "source": [
        "opt_theta_obj = minimize(lambda th: compute_cost_reg(X, y, th, lamb), init_theta,\n",
        "                         method='CG',\n",
        "                         jac=lambda th: compute_cost_grad_reg(X, y, th, lamb),\n",
        "                         options={'gtol': 1e-5, 'maxiter': 2000, 'disp': False})\n",
        "\n",
        "print('Минимизация функции стоимости ' + ('прошла успешно.' if opt_theta_obj.success else 'не удалась.'))"
      ],
      "execution_count": 26,
      "outputs": [
        {
          "output_type": "stream",
          "name": "stdout",
          "text": [
            "Минимизация функции стоимости прошла успешно.\n"
          ]
        }
      ]
    },
    {
      "cell_type": "code",
      "metadata": {
        "colab": {
          "base_uri": "https://localhost:8080/"
        },
        "id": "Tknwq7hyFCPi",
        "outputId": "25a34cc4-1d98-4655-984a-0718d563e4a2"
      },
      "source": [
        "opt_theta = opt_theta_obj.x\n",
        "\n",
        "opt_cost = compute_cost_reg(X, y, opt_theta, lamb)\n",
        "print(f'Функция стоимости при оптимальном theta = {opt_cost} (должно быть ~0.529)')"
      ],
      "execution_count": 27,
      "outputs": [
        {
          "output_type": "stream",
          "name": "stdout",
          "text": [
            "Функция стоимости при оптимальном theta = 0.5295801943388718 (должно быть ~0.529)\n"
          ]
        }
      ]
    },
    {
      "cell_type": "code",
      "metadata": {
        "colab": {
          "base_uri": "https://localhost:8080/",
          "height": 281
        },
        "id": "MJsoTuxlFEaC",
        "outputId": "c0ded6dc-b311-4aeb-d4ac-6fd08302682a"
      },
      "source": [
        "hm = np.zeros((80, 80))\n",
        "for i in range(80):\n",
        "    for j in range(80):\n",
        "        hm[i, j] = round(logistic(opt_theta @ map_features(np.array([1, j / 20 - 2, i / 20 - 2])).transpose())[0])\n",
        "c = plt.pcolor(np.arange(-2, 2, 0.05), np.arange(-2, 2, 0.05), hm, cmap='Greys')\n",
        "plt.colorbar(c)\n",
        "\n",
        "plt.title('Построенная граница решений')\n",
        "plt.scatter(X[y == 0][:, 1], X[y == 0][:, 2], c='r', marker='o')\n",
        "plt.scatter(X[y == 1][:, 1], X[y == 1][:, 2], c='g', marker='x')\n",
        "plt.show()"
      ],
      "execution_count": 28,
      "outputs": [
        {
          "output_type": "display_data",
          "data": {
            "image/png": "[encoded data removed]",
            "text/plain": [
              "<Figure size 432x288 with 2 Axes>"
            ]
          },
          "metadata": {
            "needs_background": "light"
          }
        }
      ]
    }
  ]
}