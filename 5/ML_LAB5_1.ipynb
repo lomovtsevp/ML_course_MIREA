{
  "nbformat": 4,
  "nbformat_minor": 0,
  "metadata": {
    "colab": {
      "name": "ML_LAB5_1.ipynb",
      "provenance": [],
      "authorship_tag": "ABX9TyM57fk7+ony1c6Uy/Dq3Ms3",
      "include_colab_link": true
    },
    "kernelspec": {
      "name": "python3",
      "display_name": "Python 3"
    },
    "language_info": {
      "name": "python"
    }
  },
  "cells": [
    {
      "cell_type": "markdown",
      "metadata": {
        "id": "view-in-github",
        "colab_type": "text"
      },
      "source": [
        "<a href=\"https://colab.research.google.com/github/lomovtsevp/ML_course_MIREA/blob/main/5/ML_LAB5_1.ipynb\" target=\"_parent\"><img src=\"https://colab.research.google.com/assets/colab-badge.svg\" alt=\"Open In Colab\"/></a>"
      ]
    },
    {
      "cell_type": "code",
      "metadata": {
        "id": "9qR2uIdFwoOz"
      },
      "source": [
        "from PIL import Image\n",
        "from matplotlib import pyplot as plt\n",
        "from itertools import product\n",
        "import random\n",
        "\n",
        "# В данной части лабораторной работе предлагается кластеризовать данные с помощью алгоритма k-средних.\n",
        "# В качестве данных предлагается картинка в формате RGB. Необходимо кластеризовать пиксели по цветам, усреднить цвет в\n",
        "# полученных кластерах и снизить в итоге количество цветов, используемых для отображения картинки.\n",
        "\n",
        "# Для выполнения данной работы необходимо заполнить код в следующих функциях:\n",
        "# 1. init_centroids - расчет начальных положений центроидов\n",
        "# 2. find_closest_centroid - нахождение ближайшего центроида\n",
        "# 3. compute_cluster_center - расчет центра кластера\n",
        "# 4. kmeans - реализация алгоритма k-средних"
      ],
      "execution_count": 14,
      "outputs": []
    },
    {
      "cell_type": "code",
      "metadata": {
        "id": "ZHEx4yubm02w"
      },
      "source": [
        "def init_centroids(data, k):\n",
        "\n",
        "    # Функция для расчета начальных положений центроидов.\n",
        "    # Принимает data - список кортежей - точек в пространстве признаков,\n",
        "    # k - желаемое число кластеров (и центроидов, соответственно).\n",
        "    # Должна вернуть список начальных положений центроидов. Предлагается выбрать случайно k объектов из data и\n",
        "    # поставить в их положения центроиды.\n",
        "    result = []\n",
        "    indexes_of_centroids = [random.randint(0, len(data) - 1) for _ in range(1, k+1)]\n",
        "    for index in indexes_of_centroids:\n",
        "        result.append(data[index])  # список положений (кортежей) центроидов, нужно заполнить.\n",
        "\n",
        "    # ВАШ КОД ЗДЕСЬ\n",
        "\n",
        "    # =============\n",
        "    return result"
      ],
      "execution_count": 15,
      "outputs": []
    },
    {
      "cell_type": "code",
      "metadata": {
        "id": "-jrT-eifm3N2"
      },
      "source": [
        "def find_closest_centroid(value, centroids):\n",
        "\n",
        "    # Функция для нахождения ближайшего центроида к заданной точке в пространстве признаков.\n",
        "    # Принимает value - точка (кортеж) в пространстве признаков, centroids - список кортежей положений центроидов.\n",
        "    # Должна вернуть индекс ближайшего центроида в списке centroids.\n",
        "\n",
        "    dists = []\n",
        "    for centroid in range(len(centroids)):\n",
        "        dist = 0\n",
        "        for i in range(len(value)):\n",
        "            dist += (centroids[centroid][i] - value[i]) ** 2\n",
        "        dists.append(dist ** 1/2)\n",
        "\n",
        "\n",
        "\n",
        "\n",
        "    closest_index = dists.index(min(dists))  # индекс ближайшего центроида из списка центроидов, нужно посчитать.\n",
        "    return closest_index"
      ],
      "execution_count": 16,
      "outputs": []
    },
    {
      "cell_type": "code",
      "metadata": {
        "id": "_Ubb5eYlm7Ag"
      },
      "source": [
        "def compute_cluster_center(cluster_data):\n",
        "\n",
        "    # Функция для расчета центра кластера. Принимает на вход cluster_data - список кортежей точек в\n",
        "    # пространстве признаков, соответствующих данным из выборки.\n",
        "    # Должна вернуть кортеж - центр кластера.\n",
        "    result = []\n",
        "\n",
        "    for i in range(len(cluster_data[0])):\n",
        "        sum_of_coordinate = 0\n",
        "        for j in range(len(cluster_data)):\n",
        "            sum_of_coordinate += cluster_data[j][i]\n",
        "        result.append(sum_of_coordinate / len(cluster_data))\n",
        "    return tuple(round(r) for r in result)"
      ],
      "execution_count": 17,
      "outputs": []
    },
    {
      "cell_type": "code",
      "metadata": {
        "id": "tKS_bDVtm9eH"
      },
      "source": [
        "def kmeans(data, k):\n",
        "\n",
        "    # Функция, реализующая алгоритм k-средних.\n",
        "    # Принимает на вход data - список положений (кортежей) точек в пространстве признаков (по сути, данные),\n",
        "    # k - число желаемых кластеров в итоге.\n",
        "    # Должна вернуть список клстеров (списков) положений (кортежей), содержащих все точки, принадлежащие всем кластерам,\n",
        "    # и список положений (кортежей) центроидов соответствующих кластеров.\n",
        "\n",
        "    centroids = init_centroids(data, k)  # список положений центроидов, его нужно посчитать\n",
        "    while True:\n",
        "\n",
        "        clusters = [list() for _ in centroids]  # список списков положений точек для всех центроидов\n",
        "        for value in data:\n",
        "            cent_index = find_closest_centroid(value, centroids)\n",
        "            clusters[cent_index].append(value)\n",
        "        # Необходимо написать код, который будет вычислять центры кластеров (фукнцию вы уже реализовали),\n",
        "        # затем переносить соответствующие центроиды в эти центры. Выход из цикла должен происходить тогда, когда новый\n",
        "        # расчет центра совпал с текущим положением центроида для всех центроидов.\n",
        "        flag = 0\n",
        "        for cluster in range(len(clusters)):\n",
        "            center = compute_cluster_center(clusters[cluster])\n",
        "            if centroids[cluster] == center:\n",
        "                flag += 1\n",
        "            else:\n",
        "                centroids[cluster] = center\n",
        "\n",
        "        if flag == len(clusters):\n",
        "            break\n",
        "\n",
        "        # =============\n",
        "\n",
        "    return clusters, centroids"
      ],
      "execution_count": 18,
      "outputs": []
    },
    {
      "cell_type": "code",
      "metadata": {
        "colab": {
          "base_uri": "https://localhost:8080/",
          "height": 650
        },
        "id": "stKft1Hcm-Pw",
        "outputId": "9a5e838a-156e-4b38-9a35-a68438300a4a"
      },
      "source": [
        "model_centers = [(0, 0), (70, 10), (30, 40)]\n",
        "model_data = [(random.gauss(c[0], 7), random.gauss(c[1], 7)) for c in model_centers for _ in range(100)]\n",
        "\n",
        "plt.scatter(*[list(map(lambda x: x[i], model_data)) for i in range(2)], marker='o')\n",
        "plt.show()\n",
        "\n",
        "model_clusts, model_centrs = kmeans(model_data, 3)\n",
        "print(f'Положения центроидов для модельного случая (должны быть близки к {model_centers} с точностью до порядка): '\n",
        "      f'{model_centrs}')\n",
        "\n",
        "for i in range(len(model_clusts)):\n",
        "    plt.scatter(*[list(map(lambda x: x[j], model_clusts[i])) for j in range(2)],\n",
        "                marker='o',\n",
        "                c=('r', 'g', 'b')[i])\n",
        "plt.scatter(*[list(map(lambda x: x[j], model_centrs)) for j in range(2)],\n",
        "            marker='x',\n",
        "            c='black', s=[100] * len(model_clusts))\n",
        "plt.show()\n",
        "\n",
        "print()\n",
        "print('Загруза картинки из файла \"image.png\".')\n",
        "image = Image.open('image.png')\n",
        "image_pixels = image.load()\n",
        "data = [image_pixels[x, y] for x, y in product(range(image.size[0]), range(image.size[1]))]\n",
        "\n",
        "# количество цветов, которе остается на результирующей картинке (можно поварьировать,\n",
        "# но от него сильно зависит время выполнения)\n",
        "clusters_num = 8\n",
        "\n",
        "print()\n",
        "print('Запуск алгоритма k-средних (может занять время..)')\n",
        "clusts, centrs = kmeans(data, clusters_num)\n",
        "\n",
        "\n",
        "print('Сокращение количества цветов на картинке.')\n",
        "for x, y in product(range(image.size[0]), range(image.size[1])):\n",
        "    for i in range(len(clusts)):\n",
        "        if image_pixels[x, y] in clusts[i]:\n",
        "            image_pixels[x, y] = centrs[i]\n",
        "            break\n",
        "image.save('result.png')\n",
        "\n",
        "print('Успех! Результат в файле \"result.png\" (обратите внимаение на размер результата в килобайтах).')"
      ],
      "execution_count": 19,
      "outputs": [
        {
          "output_type": "display_data",
          "data": {
            "image/png": "[encoded data removed]",
            "text/plain": [
              "<Figure size 432x288 with 1 Axes>"
            ]
          },
          "metadata": {
            "needs_background": "light"
          }
        },
        {
          "output_type": "stream",
          "name": "stdout",
          "text": [
            "Положения центроидов для модельного случая (должны быть близки к [(0, 0), (70, 10), (30, 40)] с точностью до порядка): [(70, 10), (-1, -1), (31, 40)]\n"
          ]
        },
        {
          "output_type": "display_data",
          "data": {
            "image/png": "[encoded data removed]",
            "text/plain": [
              "<Figure size 432x288 with 1 Axes>"
            ]
          },
          "metadata": {
            "needs_background": "light"
          }
        },
        {
          "output_type": "stream",
          "name": "stdout",
          "text": [
            "\n",
            "Загруза картинки из файла \"image.png\".\n",
            "\n",
            "Запуск алгоритма k-средних (может занять время..)\n",
            "Сокращение количества цветов на картинке.\n",
            "Успех! Результат в файле \"result.png\" (обратите внимаение на размер результата в килобайтах).\n"
          ]
        }
      ]
    }
  ]
}