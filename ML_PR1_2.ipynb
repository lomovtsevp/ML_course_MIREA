{
  "nbformat": 4,
  "nbformat_minor": 0,
  "metadata": {
    "colab": {
      "name": "ML_PR1_2.ipynb",
      "provenance": [],
      "collapsed_sections": []
    },
    "kernelspec": {
      "name": "python3",
      "display_name": "Python 3"
    },
    "language_info": {
      "name": "python"
    }
  },
  "cells": [
    {
      "cell_type": "code",
      "metadata": {
        "id": "izYg-gfR1I_T"
      },
      "source": [
        "import numpy as np\n",
        "from matplotlib import pyplot as plt"
      ],
      "execution_count": 199,
      "outputs": []
    },
    {
      "cell_type": "code",
      "metadata": {
        "id": "vIUS8DMG1I8y"
      },
      "source": [
        "def compute_hypothesis(X, theta):\n",
        "    return X @ theta"
      ],
      "execution_count": 200,
      "outputs": []
    },
    {
      "cell_type": "code",
      "metadata": {
        "id": "yGatIJrb1I6h"
      },
      "source": [
        "def compute_cost(X, y, theta):\n",
        "    m = X.shape[0]  # количество примеров в выборке\n",
        "    # ВАШ КОД ЗДЕСЬ\n",
        "    return 1 / (2 * m) * sum((compute_hypothesis(X, theta) - y) ** 2)\n",
        "    # =============="
      ],
      "execution_count": 201,
      "outputs": []
    },
    {
      "cell_type": "code",
      "metadata": {
        "id": "sMYId7hK1I4J"
      },
      "source": [
        "def gradient_descend(X, y, theta, alpha, num_iter):\n",
        "    history = list()\n",
        "    m = X.shape[0]  # количество примеров в выборке\n",
        "    n = X.shape[1]  # количество признаков с фиктивным\n",
        "    for i in range(num_iter):\n",
        "      # ВАШ КОД ЗДЕСЬ\n",
        "        theta_temp = theta\n",
        "        for col in range(n):\n",
        "            theta_temp[col] = theta_temp[col] - alpha * (compute_hypothesis(X, theta) - y).dot(X[:, col]) / m\n",
        "        theta = theta_temp\n",
        "        # =====================\n",
        "\n",
        "        history.append(compute_cost(X, y, theta))\n",
        "    return history, theta"
      ],
      "execution_count": 202,
      "outputs": []
    },
    {
      "cell_type": "code",
      "metadata": {
        "id": "JTh7hcGg1I18"
      },
      "source": [
        "def scale_features(X):\n",
        "    # ВАШ КОД ЗДЕСЬ\n",
        "  for col in range(1, X.shape[1]):\n",
        "    mean = np.mean(X[:, col])\n",
        "    std = np.std(X[:, col])\n",
        "    X[:, col] = (X[:,col] - mean) / std\n",
        "\n",
        "  return X"
      ],
      "execution_count": 203,
      "outputs": []
    },
    {
      "cell_type": "code",
      "metadata": {
        "id": "NEeSFAOk1IzE"
      },
      "source": [
        "def normal_equation(X, y):\n",
        "    # ВАШ КОД ЗДЕСь\n",
        "    return (np.linalg.pinv((X.T @ X))) @ X.T @ y"
      ],
      "execution_count": 204,
      "outputs": []
    },
    {
      "cell_type": "code",
      "metadata": {
        "id": "3sxZWb1w1Iwx"
      },
      "source": [
        "def load_data(data_file_path):\n",
        "    with open(data_file_path) as input_file:\n",
        "        X = list()\n",
        "        y = list()\n",
        "        for line in input_file:\n",
        "            *row, label = map(float, line.split(','))\n",
        "            X.append([1] + row)\n",
        "            y.append(label)\n",
        "        return np.array(X, float), np.array(y, float)"
      ],
      "execution_count": 205,
      "outputs": []
    },
    {
      "cell_type": "code",
      "metadata": {
        "id": "paRsDlHH1Io_"
      },
      "source": [
        "X, y = load_data('lab1data2.txt')"
      ],
      "execution_count": 206,
      "outputs": []
    },
    {
      "cell_type": "code",
      "metadata": {
        "id": "w3z1DttF1k4k"
      },
      "source": [
        "history, theta = gradient_descend(X, y, np.array([0, 0, 0], float), 0.01, 23)"
      ],
      "execution_count": 207,
      "outputs": []
    },
    {
      "cell_type": "code",
      "metadata": {
        "colab": {
          "base_uri": "https://localhost:8080/",
          "height": 281
        },
        "id": "H4Yt9RwI1k2H",
        "outputId": "a00e7c7f-c101-4fe6-83dc-f903645df88d"
      },
      "source": [
        "plt.title('График изменения функции стоимости от номера итерации до стандартизации')\n",
        "plt.plot(range(len(history)), history)\n",
        "plt.show()"
      ],
      "execution_count": 208,
      "outputs": [
        {
          "output_type": "display_data",
          "data": {
            "image/png": "[encoded data removed]",
            "text/plain": [
              "<Figure size 432x288 with 1 Axes>"
            ]
          },
          "metadata": {
            "needs_background": "light"
          }
        }
      ]
    },
    {
      "cell_type": "code",
      "metadata": {
        "id": "qFLdoWy-1kzk"
      },
      "source": [
        "X = scale_features(X)"
      ],
      "execution_count": 209,
      "outputs": []
    },
    {
      "cell_type": "code",
      "metadata": {
        "id": "FrNd5sQ31kxB"
      },
      "source": [
        "history, theta = gradient_descend(X, y, np.array([0, 0, 0], float), 0.01, 2500)"
      ],
      "execution_count": 210,
      "outputs": []
    },
    {
      "cell_type": "code",
      "metadata": {
        "colab": {
          "base_uri": "https://localhost:8080/",
          "height": 281
        },
        "id": "LX6PCrr31ksT",
        "outputId": "11d31b97-40ab-4979-db13-fd2c80a7ee8a"
      },
      "source": [
        "plt.title('График изменения функции стоимости от номера итерации после стандартизации')\n",
        "plt.plot(range(len(history)), history)\n",
        "plt.show()"
      ],
      "execution_count": 211,
      "outputs": [
        {
          "output_type": "display_data",
          "data": {
            "image/png": "[encoded data removed]",
            "text/plain": [
              "<Figure size 432x288 with 1 Axes>"
            ]
          },
          "metadata": {
            "needs_background": "light"
          }
        }
      ]
    },
    {
      "cell_type": "code",
      "metadata": {
        "colab": {
          "base_uri": "https://localhost:8080/"
        },
        "id": "G397zAlY1Hbv",
        "outputId": "4602ad57-44f3-4781-ec1e-94bb1cac207f"
      },
      "source": [
        "theta_solution = normal_equation(X, y)\n",
        "print(f'theta, посчитанные через градиентный спуск: {theta}, через нормальное уравнение: {theta_solution}')"
      ],
      "execution_count": 212,
      "outputs": [
        {
          "output_type": "stream",
          "name": "stdout",
          "text": [
            "theta, посчитанные через градиентный спуск: [340412.6595703  109446.88263067  -6577.44303366], через нормальное уравнение: [340412.65957447 109447.79646964  -6578.35485416]\n"
          ]
        }
      ]
    }
  ]
}