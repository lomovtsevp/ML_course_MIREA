{
  "nbformat": 4,
  "nbformat_minor": 0,
  "metadata": {
    "colab": {
      "name": "ML lab 1(2).ipynb",
      "provenance": [],
      "collapsed_sections": []
    },
    "kernelspec": {
      "name": "python3",
      "display_name": "Python 3"
    },
    "language_info": {
      "name": "python"
    }
  },
  "cells": [
    {
      "cell_type": "code",
      "metadata": {
        "id": "izYg-gfR1I_T"
      },
      "source": [
        "import numpy as np\n",
        "from matplotlib import pyplot as plt"
      ],
      "execution_count": 105,
      "outputs": []
    },
    {
      "cell_type": "code",
      "metadata": {
        "id": "vIUS8DMG1I8y"
      },
      "source": [
        "def compute_hypothesis(X, theta):\n",
        "    return X @ theta"
      ],
      "execution_count": 106,
      "outputs": []
    },
    {
      "cell_type": "code",
      "metadata": {
        "id": "yGatIJrb1I6h"
      },
      "source": [
        "def compute_cost(X, y, theta):\n",
        "    m = X.shape[0]  # количество примеров в выборке\n",
        "    # ВАШ КОД ЗДЕСЬ\n",
        "    return 1 / (2 * m) * sum((compute_hypothesis(X, theta) - y) ** 2)\n",
        "    # =============="
      ],
      "execution_count": 107,
      "outputs": []
    },
    {
      "cell_type": "code",
      "metadata": {
        "id": "sMYId7hK1I4J"
      },
      "source": [
        "def gradient_descend(X, y, theta, alpha, num_iter):\n",
        "    history = list()\n",
        "    m = X.shape[0]  # количество примеров в выборке\n",
        "    n = X.shape[1]  # количество признаков с фиктивным\n",
        "    for i in range(num_iter):\n",
        "      # ВАШ КОД ЗДЕСЬ\n",
        "        theta_temp = theta\n",
        "        for col in range(n):\n",
        "            theta_temp[col] = theta_temp[col] - alpha * (compute_hypothesis(X, theta) - y).dot(X[:, col]) / m\n",
        "        theta = theta_temp\n",
        "        # =====================\n",
        "\n",
        "        history.append(compute_cost(X, y, theta))\n",
        "    return history, theta"
      ],
      "execution_count": 108,
      "outputs": []
    },
    {
      "cell_type": "code",
      "metadata": {
        "id": "JTh7hcGg1I18"
      },
      "source": [
        "def scale_features(X):\n",
        "    # ВАШ КОД ЗДЕСЬ\n",
        "  for col in range(1, X.shape[1]):\n",
        "    mean_of_signs = np.mean(X[:, col])\n",
        "    standard_deviation = np.std(X[:, col])\n",
        "    X[:, col] = (X[:,col] - mean_of_signs) / standard_deviation\n",
        "\n",
        "  return X"
      ],
      "execution_count": 109,
      "outputs": []
    },
    {
      "cell_type": "code",
      "metadata": {
        "id": "NEeSFAOk1IzE"
      },
      "source": [
        "def normal_equation(X, y):\n",
        "    # ВАШ КОД ЗДЕСь\n",
        "    n_equation = (np.linalg.inv(X.T @ X)) @ X.T @ y\n",
        "    # =====================\n",
        "    return n_equation"
      ],
      "execution_count": 110,
      "outputs": []
    },
    {
      "cell_type": "code",
      "metadata": {
        "id": "3sxZWb1w1Iwx"
      },
      "source": [
        "def load_data(data_file_path):\n",
        "    with open(data_file_path) as input_file:\n",
        "        X = list()\n",
        "        y = list()\n",
        "        for line in input_file:\n",
        "            *row, label = map(float, line.split(','))\n",
        "            X.append([1] + row)\n",
        "            y.append(label)\n",
        "        return np.array(X, float), np.array(y, float)"
      ],
      "execution_count": 111,
      "outputs": []
    },
    {
      "cell_type": "code",
      "metadata": {
        "id": "paRsDlHH1Io_"
      },
      "source": [
        "X, y = load_data('lab1data2.txt')"
      ],
      "execution_count": 112,
      "outputs": []
    },
    {
      "cell_type": "code",
      "metadata": {
        "colab": {
          "base_uri": "https://localhost:8080/"
        },
        "id": "w3z1DttF1k4k",
        "outputId": "a61542ea-6314-40be-e113-d3e2a0a31682"
      },
      "source": [
        "history, theta = gradient_descend(X, y, np.array([0, 0, 0], float), 0.01, 1500)"
      ],
      "execution_count": 113,
      "outputs": [
        {
          "output_type": "stream",
          "name": "stderr",
          "text": [
            "/usr/local/lib/python3.7/dist-packages/ipykernel_launcher.py:4: RuntimeWarning: overflow encountered in double_scalars\n",
            "  after removing the cwd from sys.path.\n",
            "/usr/local/lib/python3.7/dist-packages/ipykernel_launcher.py:4: RuntimeWarning: overflow encountered in square\n",
            "  after removing the cwd from sys.path.\n",
            "/usr/local/lib/python3.7/dist-packages/ipykernel_launcher.py:2: RuntimeWarning: invalid value encountered in matmul\n",
            "  \n"
          ]
        }
      ]
    },
    {
      "cell_type": "code",
      "metadata": {
        "colab": {
          "base_uri": "https://localhost:8080/"
        },
        "id": "ktVKRwwQJ380",
        "outputId": "1c491c01-ca71-4260-ca63-b1076d6e026d"
      },
      "source": [
        "theta"
      ],
      "execution_count": 114,
      "outputs": [
        {
          "output_type": "execute_result",
          "data": {
            "text/plain": [
              "array([nan, nan, nan])"
            ]
          },
          "metadata": {},
          "execution_count": 114
        }
      ]
    },
    {
      "cell_type": "code",
      "metadata": {
        "colab": {
          "base_uri": "https://localhost:8080/",
          "height": 281
        },
        "id": "H4Yt9RwI1k2H",
        "outputId": "6ab94429-5167-4d80-d8ca-82d45277951b"
      },
      "source": [
        "plt.title('График изменения функции стоимости от номера итерации до стандартизации')\n",
        "plt.plot(range(len(history)), history)\n",
        "plt.show()"
      ],
      "execution_count": 115,
      "outputs": [
        {
          "output_type": "display_data",
          "data": {
            "image/png": "[encoded data removed]",
            "text/plain": [
              "<Figure size 432x288 with 1 Axes>"
            ]
          },
          "metadata": {
            "needs_background": "light"
          }
        }
      ]
    },
    {
      "cell_type": "code",
      "metadata": {
        "id": "qFLdoWy-1kzk"
      },
      "source": [
        "X = scale_features(X)"
      ],
      "execution_count": 116,
      "outputs": []
    },
    {
      "cell_type": "code",
      "metadata": {
        "id": "FrNd5sQ31kxB"
      },
      "source": [
        "history, theta = gradient_descend(X, y, np.array([0, 0, 0], float), 0.01, 1500)"
      ],
      "execution_count": 117,
      "outputs": []
    },
    {
      "cell_type": "code",
      "metadata": {
        "colab": {
          "base_uri": "https://localhost:8080/",
          "height": 281
        },
        "id": "LX6PCrr31ksT",
        "outputId": "bfde5482-beca-4132-e310-667abe2aa2d1"
      },
      "source": [
        "plt.title('График изменения функции стоимости от номера итерации после стандартизации')\n",
        "plt.plot(range(len(history)), history)\n",
        "plt.show()"
      ],
      "execution_count": 118,
      "outputs": [
        {
          "output_type": "display_data",
          "data": {
            "image/png": "[encoded data removed]",
            "text/plain": [
              "<Figure size 432x288 with 1 Axes>"
            ]
          },
          "metadata": {
            "needs_background": "light"
          }
        }
      ]
    },
    {
      "cell_type": "code",
      "metadata": {
        "colab": {
          "base_uri": "https://localhost:8080/"
        },
        "id": "G397zAlY1Hbv",
        "outputId": "456b0204-3670-4723-81ee-d07408c04fa3"
      },
      "source": [
        "theta_solution = normal_equation(X, y)\n",
        "print(f'theta, посчитанные через градиентный спуск: {theta}, через нормальное уравнение: {theta_solution}')"
      ],
      "execution_count": 119,
      "outputs": [
        {
          "output_type": "stream",
          "name": "stdout",
          "text": [
            "theta, посчитанные через градиентный спуск: [340412.56301439 109371.67272252  -6502.3992545 ], через нормальное уравнение: [340412.65957447 109447.79646964  -6578.35485416]\n"
          ]
        }
      ]
    }
  ]
}